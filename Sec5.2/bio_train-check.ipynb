{
 "cells": [
  {
   "cell_type": "markdown",
   "id": "23f1b713-7cf9-485a-af18-311ba568e530",
   "metadata": {},
   "source": [
    "### Imports"
   ]
  },
  {
   "cell_type": "code",
   "execution_count": 1,
   "id": "885b4c6d-790c-4b0e-8f47-70e00fd08601",
   "metadata": {},
   "outputs": [],
   "source": [
    "import numpy as np\n",
    "import matplotlib.pyplot as plt\n",
    "import torch\n",
    "import anndata\n",
    "import scanpy as sc"
   ]
  },
  {
   "cell_type": "code",
   "execution_count": 2,
   "id": "ee6318bc-7a41-47e2-8c04-94e4d43ce67e",
   "metadata": {},
   "outputs": [],
   "source": [
    "import seaborn as sns"
   ]
  },
  {
   "cell_type": "code",
   "execution_count": 3,
   "id": "2c18e2b9-5cfe-4fc4-bede-e1a89105d802",
   "metadata": {},
   "outputs": [],
   "source": [
    "from torch import nn\n",
    "from tqdm.notebook import tqdm \n",
    "from itertools import chain"
   ]
  },
  {
   "cell_type": "code",
   "execution_count": 4,
   "id": "2a16da2c-ca15-47cc-b138-e6ef100088c4",
   "metadata": {},
   "outputs": [],
   "source": [
    "from ot_cond.utils import set_seed, createLogHandler, get_G_v2 as get_G, get_dist\n",
    "from torch import nn\n",
    "from tqdm import tqdm \n",
    "from itertools import chain\n",
    "from torch.optim import Adam,RMSprop, SGD\n",
    "from torch.optim.lr_scheduler import StepLR\n",
    "from torch.utils.data import TensorDataset, DataLoader, Subset\n",
    "from torchvision import datasets, transforms\n",
    "from torchvision.transforms import ToTensor, Lambda, Compose\n",
    "from sklearn.model_selection import train_test_split\n",
    "from sklearn.metrics.pairwise import rbf_kernel\n",
    "from torch.nn import functional as F"
   ]
  },
  {
   "cell_type": "code",
   "execution_count": 5,
   "id": "b57fbf38-08ff-4ded-946c-2ec104e0cc2f",
   "metadata": {},
   "outputs": [
    {
     "name": "stdout",
     "output_type": "stream",
     "text": [
      "[Errno 2] No such file or directory: '../../../../../examples/bio_new'\n",
      "/raid/rachitkd/Conditional-Optimal-Transport/examples/bio_new\n"
     ]
    }
   ],
   "source": [
    "%cd ../../../../../examples/bio_new"
   ]
  },
  {
   "cell_type": "code",
   "execution_count": 6,
   "id": "228f6dad-a623-4c1e-beb1-5327ee516f8b",
   "metadata": {},
   "outputs": [],
   "source": [
    "import argparse\n",
    "import os"
   ]
  },
  {
   "cell_type": "code",
   "execution_count": 7,
   "id": "0cf46eae-22e3-4b18-b946-2db2b4b27f3a",
   "metadata": {},
   "outputs": [],
   "source": [
    "from torch.utils.data import TensorDataset, DataLoader, Subset\n",
    "from torchvision import datasets, transforms\n",
    "from torchvision.transforms import ToTensor, Lambda, Compose\n",
    "from sklearn.model_selection import train_test_split\n",
    "from sklearn.metrics.pairwise import rbf_kernel"
   ]
  },
  {
   "cell_type": "code",
   "execution_count": 8,
   "id": "0fdb4a56-1d15-4a77-9978-0446a8818df9",
   "metadata": {},
   "outputs": [
    {
     "name": "stderr",
     "output_type": "stream",
     "text": [
      "No GPU/TPU found, falling back to CPU. (Set TF_CPP_MIN_LOG_LEVEL=0 and rerun for more info.)\n"
     ]
    }
   ],
   "source": [
    "import jax.numpy as jnp\n",
    "from ott.problems.linear import linear_problem\n",
    "from ott.solvers.linear import sinkhorn\n",
    "from ott.geometry import pointcloud"
   ]
  },
  {
   "cell_type": "code",
   "execution_count": 9,
   "id": "5451b442-8f85-47b9-9fc0-7a4a5622bb8c",
   "metadata": {},
   "outputs": [
    {
     "name": "stdout",
     "output_type": "stream",
     "text": [
      "cuda\n"
     ]
    }
   ],
   "source": [
    "dtype = torch.float\n",
    "device = torch.device('cuda' if torch.cuda.is_available() else 'cpu')\n",
    "print(device)"
   ]
  },
  {
   "cell_type": "code",
   "execution_count": 10,
   "id": "02f2fdb3-c8a8-4e53-ab46-c67332698a74",
   "metadata": {},
   "outputs": [],
   "source": [
    "SEED = 0\n",
    "set_seed(SEED)"
   ]
  },
  {
   "cell_type": "markdown",
   "id": "b1bea818-5656-4611-9d52-e125f6f2b893",
   "metadata": {},
   "source": [
    "### Load Data"
   ]
  },
  {
   "cell_type": "code",
   "execution_count": 11,
   "id": "8426c48e-0f8d-44da-9171-920126e448ee",
   "metadata": {},
   "outputs": [],
   "source": [
    "def read_data(filename='hvg.h5ad'):\n",
    "    adata = sc.read(filename)\n",
    "    sc.pp.highly_variable_genes(adata, n_top_genes=1000, subset=True)\n",
    "\n",
    "    dat = adata.obsm['X_pca']\n",
    "\n",
    "    # Separate out control cells, \n",
    "    ctrl_indices = np.where(adata.obs['dose'].to_numpy()==0)[0]\n",
    "    print(f'Number of control cells:{len(ctrl_indices)}')\n",
    "    ctrl_data = dat[ctrl_indices]\n",
    "    \n",
    "    # Different y distributions\n",
    "    y_1 = dat[np.where(adata.obs['drug-dose'].to_numpy()=='givinostat-10')]\n",
    "    y_2 = dat[np.where(adata.obs['drug-dose'].to_numpy()=='givinostat-100')]\n",
    "    y_3 = dat[np.where(adata.obs['drug-dose'].to_numpy()=='givinostat-1000')]\n",
    "    y_4 = dat[np.where(adata.obs['drug-dose'].to_numpy()=='givinostat-10000')]\n",
    "\n",
    "    return ctrl_data, y_1, y_2, y_3, y_4\n",
    "\n",
    "def split_data(X, Y1, Y2 , Y3, Y4):\n",
    "    \"\"\"\n",
    "    Split data into training and test datasets\n",
    "    \"\"\"\n",
    "    train_set = []\n",
    "    test_set = []\n",
    "    for each in (X, Y1, Y2, Y3, Y4):\n",
    "        each_train, each_test = train_test_split(each, test_size=0.2, random_state=0)\n",
    "        train_set.append(each_train)\n",
    "        test_set.append(each_test)\n",
    "    \n",
    "    return tuple(train_set), tuple(test_set)\n",
    "\n",
    "def get_dataloaders(dataset, batch_size=512):\n",
    "    \"\"\"\n",
    "    Dataset here is not a pytorch dataset, but rather a tuple\n",
    "    \"\"\"\n",
    "    tensor_dl = {}\n",
    "    \n",
    "    source_dset = TensorDataset(torch.from_numpy(dataset[0]).float())\n",
    "    source_dl = DataLoader(source_dset, batch_size=batch_size ,shuffle=True)    \n",
    "                                \n",
    "    doses = [10,100,1000,10000]\n",
    "    for i, each in enumerate(dataset):\n",
    "        if i == 0:\n",
    "            continue\n",
    "        each_dset =TensorDataset(torch.from_numpy(each).float())\n",
    "        print(torch.from_numpy(each).shape)\n",
    "        \n",
    "        dl = DataLoader(each_dset, batch_size=batch_size ,shuffle=True)    \n",
    "        tensor_dl[doses[i-1]] = dl\n",
    "    \n",
    "    # TODO: convert into dict\n",
    "    return source_dl, tensor_dl\n",
    "\n",
    "def get_data(filename='hvg.h5ad',setting='insample'):\n",
    "    \"\"\"\n",
    "    Return train and test dataloaders\n",
    "    \"\"\"\n",
    "    X, y_1, y_2, y_3, y_4 = read_data(filename)\n",
    "    train_set, test_set = split_data(X, y_1, y_2, y_3, y_4)\n",
    "    X_train_dataloader, Y_train_dataloaders = get_dataloaders(train_set)\n",
    "    X_test_dataloader, Y_test_dataloaders = get_dataloaders(test_set)\n",
    "\n",
    "    return X_train_dataloader, Y_train_dataloaders, X_test_dataloader, Y_test_dataloaders\n"
   ]
  },
  {
   "cell_type": "markdown",
   "id": "75f4ee66-9893-408e-b069-781b232c130e",
   "metadata": {},
   "source": [
    "### Define Networks"
   ]
  },
  {
   "cell_type": "code",
   "execution_count": 12,
   "id": "52b1178c-80b5-4444-a84b-ab6bf605ea09",
   "metadata": {},
   "outputs": [],
   "source": [
    "class Generator(nn.Module):\n",
    "    def __init__(self, input_dim=50,context_dim=1, out_dim=50, noise_dim=10):\n",
    "        super(Generator,self).__init__()\n",
    "        self.layers = nn.Sequential(\n",
    "            nn.Linear(noise_dim+context_dim+input_dim,128, bias=True),\n",
    "            nn.LeakyReLU(0.1),\n",
    "            nn.Linear(128,128),\n",
    "            #nn.Dropout(0.1),\n",
    "            nn.LeakyReLU(0.2),\n",
    "            nn.Linear(128,128),\n",
    "            #nn.Dropout(0.1),\n",
    "            nn.LeakyReLU(0.1),\n",
    "            nn.Linear(128,64),\n",
    "            #nn.Dropout(0.1),\n",
    "            nn.LeakyReLU(0.2),\n",
    "            nn.Linear(64, out_dim),\n",
    "        )\n",
    "        \n",
    "        self.input_dim = input_dim\n",
    "        self.context_dim = context_dim\n",
    "        self.noise_dim = noise_dim\n",
    "    \n",
    "    def forward(self,x):\n",
    "        out = self.layers(x)\n",
    "        return out\n",
    "\n",
    "# Copy Piyushi Di's initialize_weights function \n",
    "def initialize_weights(m):\n",
    "    if isinstance(m, nn.Conv2d):\n",
    "        nn.init.kaiming_uniform_(m.weight.data,nonlinearity='relu')\n",
    "        if m.bias is not None:\n",
    "            nn.init.constant_(m.bias.data, 0)\n",
    "    elif isinstance(m, nn.BatchNorm2d):\n",
    "        nn.init.constant_(m.weight.data, 1)\n",
    "        nn.init.constant_(m.bias.data, 0)\n",
    "    elif isinstance(m, nn.Linear):\n",
    "        nn.init.kaiming_uniform_(m.weight.data)\n",
    "        nn.init.constant_(m.bias.data, 0)"
   ]
  },
  {
   "cell_type": "markdown",
   "id": "a1680536-c4a8-4946-a85d-b011d0323f3d",
   "metadata": {},
   "source": [
    "### UTil"
   ]
  },
  {
   "cell_type": "code",
   "execution_count": 13,
   "id": "aaf94377-f448-4a6e-aad1-41d2bbe8fb72",
   "metadata": {},
   "outputs": [],
   "source": [
    "\n",
    "def eye_like(G):\n",
    "    if(len(G.shape) == 3):\n",
    "        return torch.eye(*G.shape[-2:], out=torch.empty_like(G)).repeat(G.shape[0], 1, 1)\n",
    "    else: \n",
    "        return torch.eye(*G.shape,out=torch.empty_like(G))"
   ]
  },
  {
   "cell_type": "code",
   "execution_count": 14,
   "id": "795db53c-8b32-41ec-85f7-d2fef0565cec",
   "metadata": {},
   "outputs": [],
   "source": [
    "def save_model(pi_net, optimizer, epoch):\n",
    "    torch.save(pi_net.state_dict(),f'{save_as}/model_trained_{epoch}.pth')\n",
    "    torch.save(optimizer.state_dict(),f'{save_as}/optimizer_trained_{epoch}.pth')\n",
    "    return"
   ]
  },
  {
   "cell_type": "markdown",
   "id": "73e4c10c-ef1a-4a11-9580-17383e49f8a6",
   "metadata": {},
   "source": [
    "### Hyperparameters"
   ]
  },
  {
   "cell_type": "code",
   "execution_count": 15,
   "id": "dc92b3cc-9c6d-4118-aae1-39b08f9dd902",
   "metadata": {},
   "outputs": [
    {
     "name": "stdout",
     "output_type": "stream",
     "text": [
      "Namespace(lda=2000, ktype='imq', khp_x=10, khp_y=10, n_epochs=30, lr=0.002, noise_dim=10, n_noise=20, opti_type='adam', log_fname='logs_final_run', save_as='')\n"
     ]
    }
   ],
   "source": [
    "\n",
    "parser = argparse.ArgumentParser(description = '_')\n",
    "parser.add_argument('--lda', type=float, default=2000) \n",
    "parser.add_argument('--ktype', type=str, default=\"imq\")\n",
    "parser.add_argument('--khp_x', type=float, default=10)\n",
    "parser.add_argument('--khp_y', type=float, default=10)\n",
    "parser.add_argument('--n_epochs', type=int, default=30)\n",
    "parser.add_argument('--lr', type=float, default=2e-3)\n",
    "parser.add_argument('--noise_dim', type=int, default=10)\n",
    "parser.add_argument('--n_noise', type=int, default=20)\n",
    "parser.add_argument('--opti_type', type=str, default=\"adam\")\n",
    "parser.add_argument('--log_fname', type=str, default=\"logs_final_run\")\n",
    "parser.add_argument('--save_as', required=False, type=str, default=\"\")\n",
    "args = parser.parse_args(args=[])\n",
    "print(args)"
   ]
  },
  {
   "cell_type": "code",
   "execution_count": 16,
   "id": "8a9c7bf5-806e-40fb-8558-4d9a35577f73",
   "metadata": {},
   "outputs": [],
   "source": [
    "# Hyperparameters\n",
    "lambda_reg = args.lda\n",
    "ktype = args.ktype\n",
    "khp_x = args.khp_x\n",
    "khp_y = args.khp_y\n",
    "num_epochs = args.n_epochs\n",
    "lr = args.lr\n",
    "opti_type = args.opti_type\n",
    "save_as = f\"{lambda_reg}_{ktype}_{khp_x}_{khp_y}_{opti_type}_{args.noise_dim}\" + args.save_as\n",
    "\n",
    "n_noise = args.n_noise\n",
    "noise_dim = args.noise_dim\n"
   ]
  },
  {
   "cell_type": "markdown",
   "id": "0295acf3-7022-48e5-b58c-563d7bc15327",
   "metadata": {},
   "source": [
    "### Instantiate"
   ]
  },
  {
   "cell_type": "code",
   "execution_count": 17,
   "id": "60dfc791-0997-4024-afd1-16bfdfe2b98d",
   "metadata": {},
   "outputs": [
    {
     "name": "stdout",
     "output_type": "stream",
     "text": [
      "Number of control cells:17565\n",
      "torch.Size([812, 50])\n",
      "torch.Size([790, 50])\n",
      "torch.Size([654, 50])\n",
      "torch.Size([575, 50])\n",
      "torch.Size([204, 50])\n",
      "torch.Size([198, 50])\n",
      "torch.Size([164, 50])\n",
      "torch.Size([144, 50])\n"
     ]
    }
   ],
   "source": [
    "X_train_dataloader, Y_train_dataloaders, X_test_dataloader, Y_test_dataloaders =  get_data(filename='./datasets/hvg.h5ad')\n"
   ]
  },
  {
   "cell_type": "code",
   "execution_count": 18,
   "id": "6f92cbc6-6421-4374-b1fd-f213fcab965a",
   "metadata": {},
   "outputs": [
    {
     "data": {
      "text/plain": [
       "Generator(\n",
       "  (layers): Sequential(\n",
       "    (0): Linear(in_features=61, out_features=128, bias=True)\n",
       "    (1): LeakyReLU(negative_slope=0.1)\n",
       "    (2): Linear(in_features=128, out_features=128, bias=True)\n",
       "    (3): LeakyReLU(negative_slope=0.2)\n",
       "    (4): Linear(in_features=128, out_features=128, bias=True)\n",
       "    (5): LeakyReLU(negative_slope=0.1)\n",
       "    (6): Linear(in_features=128, out_features=64, bias=True)\n",
       "    (7): LeakyReLU(negative_slope=0.2)\n",
       "    (8): Linear(in_features=64, out_features=50, bias=True)\n",
       "  )\n",
       ")"
      ]
     },
     "execution_count": 18,
     "metadata": {},
     "output_type": "execute_result"
    }
   ],
   "source": [
    "pi_net = Generator(noise_dim=noise_dim)\n",
    "pi_net.apply(initialize_weights)\n",
    "pi_net = pi_net.to(device)\n",
    "pi_net.train()"
   ]
  },
  {
   "cell_type": "code",
   "execution_count": 19,
   "id": "ec5b4716-cafe-4b29-9796-1e9df6003ba1",
   "metadata": {},
   "outputs": [],
   "source": [
    "optimizer = Adam(pi_net.parameters(), lr=lr, betas=(0.9,0.99))\n",
    "#scheduler = StepLR(optimizer, step_size=100, gamma=0.8)"
   ]
  },
  {
   "cell_type": "markdown",
   "id": "3a3f5c13-9a74-40e0-86d6-c52d9035f52e",
   "metadata": {},
   "source": [
    "### Train"
   ]
  },
  {
   "cell_type": "code",
   "execution_count": 20,
   "id": "abe4405b-f30a-46c5-8ba4-7c4c097ab2db",
   "metadata": {},
   "outputs": [],
   "source": [
    "def train(pi_net, optimizer, X_train_dataloader, Y_train_dataloaders, scheduler=None):\n",
    "    objs = []\n",
    "    tcosts = []\n",
    "    reg_costs = []\n",
    "    best_obj = None # NOTE: ADDED\n",
    "    v_gen = torch.Tensor(n_noise*[1.0/n_noise]).to(dtype).to(device)\n",
    "    Z_qs = torch.Tensor([10,100,1000,10000]).to(dtype).to(device) \n",
    "    # IMP: The order of contexts here must be the same as order in Y_dataloaders\n",
    "    # TODO: if out of sample, quit on the required context\n",
    "    for epoch in tqdm(range(num_epochs)):\n",
    "        obj_epoch = 0.\n",
    "        #tcost_epoch = 0.\n",
    "        #reg_epoch = 0.\n",
    "        pi_net.train()\n",
    "        \n",
    "        for j in range(50):\n",
    "            tcost_epoch = 0. \n",
    "            for idx, X_ in enumerate(X_train_dataloader):\n",
    "                X = X_[0].to(device) # pytorch dataloader returns list, but we want only the first element\n",
    "                obj = 0.\n",
    "                tcost = 0.\n",
    "                reg_y = 0.\n",
    "                n_x = len(X)\n",
    "                for ctx, dl in Y_train_dataloaders.items():\n",
    "                    \n",
    "                    ctx = torch.Tensor([ctx]).to(device)\n",
    "                    \n",
    "                    #Y_Z_ = next(iter(Y_train_dataloaders[10]))\n",
    "                    \n",
    "                    Y_Z_ = next(iter(dl))\n",
    "                    Y_Z = Y_Z_[0].to(device)\n",
    "\n",
    "                    #print(ctx.repeat(n_x,1).shape)\n",
    "                    ZX = torch.cat([X, ctx.repeat(n_x,1)], dim=1)\n",
    "                    n_s = torch.randn(n_noise*n_x, noise_dim).to(device)\n",
    "                    #print(ZX.shape)\n",
    "                    ZXn = torch.cat([ZX.repeat_interleave(n_noise,0), n_s],dim=1)\n",
    "                    #print(ZXn.shape)\n",
    "                    Y_gen = pi_net(ZXn)\n",
    "                    \n",
    "                    C = get_dist(X, Y_gen)\n",
    "                    \n",
    "                    reqd_indices = torch.eye(C.shape[0]).to(device).repeat_interleave(n_noise,dim=1)\n",
    "                    C = C*reqd_indices / 100\n",
    "                    # C = F.normalize(C, p=float('inf'), dim=[0,1])\n",
    "\n",
    "                    #print(ZX.shape)\n",
    "                    #print(ZXn.shape)\n",
    "                    tcost = tcost + torch.sum(C)/(len(Z_qs)*(ZXn.shape[0]))\n",
    "\n",
    "                obj = tcost\n",
    "\n",
    "                # optimizer updates after looping for all Z\n",
    "                tcost_epoch += obj\n",
    "                optimizer.zero_grad()\n",
    "                obj.backward()\n",
    "                optimizer.step()\n",
    "                if scheduler:\n",
    "                    scheduler.step()\n",
    "            print('c',tcost_epoch)\n",
    "        \n",
    "        for j in range(50):\n",
    "            reg_epoch = 0.\n",
    "            for idx, X_ in enumerate(X_train_dataloader):\n",
    "                X = X_[0].to(device) # pytorch dataloader returns list, but we want only the first element\n",
    "                obj = 0.\n",
    "                tcost = 0.\n",
    "                reg_y = 0.\n",
    "                n_x = len(X)\n",
    "                for ctx, dl in Y_train_dataloaders.items():\n",
    "                    ctx = torch.Tensor([ctx]).to(device)\n",
    "                    \n",
    "                    ZX = torch.cat([X, ctx.repeat(n_x,1)], dim=1)\n",
    "                    n_s = torch.randn(n_noise*n_x, noise_dim).to(device)\n",
    "                    ZXn = torch.cat([ZX.repeat_interleave(n_noise,0), n_s],dim=1)\n",
    "                    Y_gen = pi_net(ZXn)\n",
    "                    \n",
    "                    Y_Z_ = next(iter(dl))\n",
    "                    Y_Z = Y_Z_[0].to(device)\n",
    "                    k = Y_Z.shape[0]\n",
    "                    sample_len = n_x*n_noise\n",
    "                    v_gen = torch.Tensor(sample_len*[1.0/sample_len]).to(dtype).to(device)\n",
    "                \n",
    "                    v_ygz = -1*torch.Tensor(k*[1.0/k]).to(dtype).to(device)\n",
    "                    v = torch.cat([v_gen, v_ygz], dim=0).to(dtype).to(device)\n",
    "                \n",
    "                \n",
    "                    cat_Y = torch.vstack([Y_gen, Y_Z])\n",
    "                \n",
    "                    #v = (1/cat_Y.shape[0])*torch.ones(cat_Y.shape[0]).to(dtype).to(device)\n",
    "                    G_cat = get_G(khp=khp_y, x=cat_Y, y=cat_Y, ktype=ktype)\n",
    "                \n",
    "                    #print(G_cat.shape, v.shape)\n",
    "                    reg_y = reg_y + torch.mv(G_cat, v).dot(v)\n",
    "\n",
    "                obj = lambda_reg*reg_y\n",
    "            \n",
    "                # optimizer updates after looping for all Z\n",
    "\n",
    "                optimizer.zero_grad()\n",
    "                obj.backward()\n",
    "                optimizer.step()\n",
    "                reg_epoch += obj\n",
    "                if scheduler:\n",
    "                    scheduler.step()\n",
    "            print('r',reg_epoch)\n",
    "            \n",
    "            obj_epoch += obj\n",
    "            #tcost_epoch += tcost\n",
    "            #reg_epoch += reg_y\n",
    "        #if epoch == 0:\n",
    "        #    print(f'Cond No.{torch.linalg.cond(G_cat)}')\n",
    "        #print(f'Tcost: {tcost_epoch}, reg_cost: {reg_epoch}, Objective: {obj_epoch}')\n",
    "        \n",
    "        objs.append(obj_epoch)\n",
    "        tcosts.append(tcost_epoch)\n",
    "        reg_costs.append(reg_epoch)\n",
    "        print(obj_epoch, tcost_epoch, reg_epoch)\n",
    "        \n",
    "\n",
    "        if epoch % 50 == 0 and (best_obj is None or best_obj > objs[-1].item()):\n",
    "            #cond_no = torch.linalg.cond(G_cat)\n",
    "            #print(cond_no)\n",
    "            best_obj = objs[-1].item()\n",
    "            #save_model(pi_net, optimizer, epoch)\n",
    "            #logger.info(f'{obj_epoch}, {tcost_epoch}, {reg_epoch}, {epoch}')\n",
    "\n",
    "\n",
    "    return pi_net, optimizer"
   ]
  },
  {
   "cell_type": "code",
   "execution_count": 37,
   "id": "7339ed78-8c4e-4ce6-98fa-83c8f0303513",
   "metadata": {},
   "outputs": [
    {
     "name": "stderr",
     "output_type": "stream",
     "text": [
      "  0%|          | 0/30 [00:00<?, ?it/s]"
     ]
    },
    {
     "name": "stdout",
     "output_type": "stream",
     "text": [
      "c tensor(15.0363, device='cuda:0', grad_fn=<AddBackward0>)\n",
      "c tensor(11.9085, device='cuda:0', grad_fn=<AddBackward0>)\n",
      "c tensor(10.1275, device='cuda:0', grad_fn=<AddBackward0>)\n",
      "c tensor(8.8706, device='cuda:0', grad_fn=<AddBackward0>)\n",
      "c tensor(7.7814, device='cuda:0', grad_fn=<AddBackward0>)\n",
      "c tensor(6.8672, device='cuda:0', grad_fn=<AddBackward0>)\n",
      "c tensor(6.0463, device='cuda:0', grad_fn=<AddBackward0>)\n",
      "c tensor(5.3008, device='cuda:0', grad_fn=<AddBackward0>)\n",
      "c tensor(4.6656, device='cuda:0', grad_fn=<AddBackward0>)\n",
      "c tensor(4.1191, device='cuda:0', grad_fn=<AddBackward0>)\n",
      "c tensor(3.5971, device='cuda:0', grad_fn=<AddBackward0>)\n",
      "c tensor(3.1195, device='cuda:0', grad_fn=<AddBackward0>)\n",
      "c tensor(2.6149, device='cuda:0', grad_fn=<AddBackward0>)\n",
      "c tensor(2.1800, device='cuda:0', grad_fn=<AddBackward0>)\n",
      "c tensor(1.8486, device='cuda:0', grad_fn=<AddBackward0>)\n",
      "c tensor(1.5600, device='cuda:0', grad_fn=<AddBackward0>)\n",
      "c tensor(1.2929, device='cuda:0', grad_fn=<AddBackward0>)\n",
      "c tensor(1.0703, device='cuda:0', grad_fn=<AddBackward0>)\n",
      "c tensor(0.7733, device='cuda:0', grad_fn=<AddBackward0>)\n",
      "c tensor(0.6636, device='cuda:0', grad_fn=<AddBackward0>)\n",
      "c tensor(0.6151, device='cuda:0', grad_fn=<AddBackward0>)\n",
      "c tensor(0.6525, device='cuda:0', grad_fn=<AddBackward0>)\n",
      "c tensor(0.5280, device='cuda:0', grad_fn=<AddBackward0>)\n",
      "c tensor(0.4400, device='cuda:0', grad_fn=<AddBackward0>)\n",
      "c tensor(0.4522, device='cuda:0', grad_fn=<AddBackward0>)\n",
      "c tensor(0.4018, device='cuda:0', grad_fn=<AddBackward0>)\n",
      "c tensor(0.4312, device='cuda:0', grad_fn=<AddBackward0>)\n",
      "c tensor(0.4198, device='cuda:0', grad_fn=<AddBackward0>)\n",
      "c tensor(0.4159, device='cuda:0', grad_fn=<AddBackward0>)\n",
      "c tensor(0.3520, device='cuda:0', grad_fn=<AddBackward0>)\n",
      "c tensor(0.3580, device='cuda:0', grad_fn=<AddBackward0>)\n",
      "c tensor(0.3498, device='cuda:0', grad_fn=<AddBackward0>)\n",
      "c tensor(0.4081, device='cuda:0', grad_fn=<AddBackward0>)\n",
      "c tensor(0.3135, device='cuda:0', grad_fn=<AddBackward0>)\n",
      "c tensor(0.3272, device='cuda:0', grad_fn=<AddBackward0>)\n",
      "c tensor(0.3195, device='cuda:0', grad_fn=<AddBackward0>)\n",
      "c tensor(0.3264, device='cuda:0', grad_fn=<AddBackward0>)\n",
      "c tensor(0.3084, device='cuda:0', grad_fn=<AddBackward0>)\n",
      "c tensor(0.2932, device='cuda:0', grad_fn=<AddBackward0>)\n",
      "c tensor(0.2943, device='cuda:0', grad_fn=<AddBackward0>)\n",
      "c tensor(0.3127, device='cuda:0', grad_fn=<AddBackward0>)\n",
      "c tensor(0.2733, device='cuda:0', grad_fn=<AddBackward0>)\n",
      "c tensor(0.3036, device='cuda:0', grad_fn=<AddBackward0>)\n",
      "c tensor(0.3339, device='cuda:0', grad_fn=<AddBackward0>)\n",
      "c tensor(0.2666, device='cuda:0', grad_fn=<AddBackward0>)\n",
      "c tensor(0.2802, device='cuda:0', grad_fn=<AddBackward0>)\n",
      "c tensor(0.2562, device='cuda:0', grad_fn=<AddBackward0>)\n",
      "c tensor(0.2687, device='cuda:0', grad_fn=<AddBackward0>)\n",
      "c tensor(0.2667, device='cuda:0', grad_fn=<AddBackward0>)\n",
      "c tensor(0.2525, device='cuda:0', grad_fn=<AddBackward0>)\n",
      "r tensor(2002.4329, device='cuda:0', grad_fn=<AddBackward0>)\n",
      "r tensor(316.1818, device='cuda:0', grad_fn=<AddBackward0>)\n",
      "r tensor(214.9798, device='cuda:0', grad_fn=<AddBackward0>)\n",
      "r tensor(185.3619, device='cuda:0', grad_fn=<AddBackward0>)\n",
      "r tensor(177.6934, device='cuda:0', grad_fn=<AddBackward0>)\n",
      "r tensor(176.4720, device='cuda:0', grad_fn=<AddBackward0>)\n",
      "r tensor(167.4909, device='cuda:0', grad_fn=<AddBackward0>)\n",
      "r tensor(165.5553, device='cuda:0', grad_fn=<AddBackward0>)\n",
      "r tensor(170.6610, device='cuda:0', grad_fn=<AddBackward0>)\n",
      "r tensor(170.3931, device='cuda:0', grad_fn=<AddBackward0>)\n",
      "r tensor(158.9202, device='cuda:0', grad_fn=<AddBackward0>)\n",
      "r tensor(153.9728, device='cuda:0', grad_fn=<AddBackward0>)\n",
      "r tensor(165.0695, device='cuda:0', grad_fn=<AddBackward0>)\n",
      "r tensor(164.9859, device='cuda:0', grad_fn=<AddBackward0>)\n",
      "r tensor(159.0642, device='cuda:0', grad_fn=<AddBackward0>)\n",
      "r tensor(154.1033, device='cuda:0', grad_fn=<AddBackward0>)\n",
      "r tensor(153.2539, device='cuda:0', grad_fn=<AddBackward0>)\n",
      "r tensor(145.1842, device='cuda:0', grad_fn=<AddBackward0>)\n",
      "r tensor(149.2917, device='cuda:0', grad_fn=<AddBackward0>)\n",
      "r tensor(150.6560, device='cuda:0', grad_fn=<AddBackward0>)\n",
      "r tensor(150.5551, device='cuda:0', grad_fn=<AddBackward0>)\n",
      "r tensor(150.5670, device='cuda:0', grad_fn=<AddBackward0>)\n",
      "r tensor(159.3444, device='cuda:0', grad_fn=<AddBackward0>)\n",
      "r tensor(156.4187, device='cuda:0', grad_fn=<AddBackward0>)\n",
      "r tensor(152.3605, device='cuda:0', grad_fn=<AddBackward0>)\n",
      "r tensor(146.1659, device='cuda:0', grad_fn=<AddBackward0>)\n",
      "r tensor(147.2115, device='cuda:0', grad_fn=<AddBackward0>)\n",
      "r tensor(143.3899, device='cuda:0', grad_fn=<AddBackward0>)\n",
      "r tensor(149.1222, device='cuda:0', grad_fn=<AddBackward0>)\n"
     ]
    },
    {
     "name": "stderr",
     "output_type": "stream",
     "text": [
      "  0%|          | 0/30 [02:48<?, ?it/s]\n"
     ]
    },
    {
     "ename": "KeyboardInterrupt",
     "evalue": "",
     "output_type": "error",
     "traceback": [
      "\u001b[0;31m---------------------------------------------------------------------------\u001b[0m",
      "\u001b[0;31mKeyboardInterrupt\u001b[0m                         Traceback (most recent call last)",
      "\u001b[0;32m<ipython-input-37-c0841793a4e8>\u001b[0m in \u001b[0;36m<module>\u001b[0;34m\u001b[0m\n\u001b[0;32m----> 1\u001b[0;31m \u001b[0mtrain\u001b[0m\u001b[0;34m(\u001b[0m\u001b[0mpi_net\u001b[0m\u001b[0;34m,\u001b[0m \u001b[0moptimizer\u001b[0m\u001b[0;34m,\u001b[0m \u001b[0mX_train_dataloader\u001b[0m\u001b[0;34m,\u001b[0m\u001b[0mY_train_dataloaders\u001b[0m\u001b[0;34m,\u001b[0m \u001b[0;32mNone\u001b[0m\u001b[0;34m)\u001b[0m\u001b[0;34m\u001b[0m\u001b[0;34m\u001b[0m\u001b[0m\n\u001b[0m",
      "\u001b[0;32m<ipython-input-20-51041da34915>\u001b[0m in \u001b[0;36mtrain\u001b[0;34m(pi_net, optimizer, X_train_dataloader, Y_train_dataloaders, scheduler)\u001b[0m\n\u001b[1;32m     63\u001b[0m             \u001b[0mreg_epoch\u001b[0m \u001b[0;34m=\u001b[0m \u001b[0;36m0.\u001b[0m\u001b[0;34m\u001b[0m\u001b[0;34m\u001b[0m\u001b[0m\n\u001b[1;32m     64\u001b[0m             \u001b[0;32mfor\u001b[0m \u001b[0midx\u001b[0m\u001b[0;34m,\u001b[0m \u001b[0mX_\u001b[0m \u001b[0;32min\u001b[0m \u001b[0menumerate\u001b[0m\u001b[0;34m(\u001b[0m\u001b[0mX_train_dataloader\u001b[0m\u001b[0;34m)\u001b[0m\u001b[0;34m:\u001b[0m\u001b[0;34m\u001b[0m\u001b[0;34m\u001b[0m\u001b[0m\n\u001b[0;32m---> 65\u001b[0;31m                 \u001b[0mX\u001b[0m \u001b[0;34m=\u001b[0m \u001b[0mX_\u001b[0m\u001b[0;34m[\u001b[0m\u001b[0;36m0\u001b[0m\u001b[0;34m]\u001b[0m\u001b[0;34m.\u001b[0m\u001b[0mto\u001b[0m\u001b[0;34m(\u001b[0m\u001b[0mdevice\u001b[0m\u001b[0;34m)\u001b[0m \u001b[0;31m# pytorch dataloader returns list, but we want only the first element\u001b[0m\u001b[0;34m\u001b[0m\u001b[0;34m\u001b[0m\u001b[0m\n\u001b[0m\u001b[1;32m     66\u001b[0m                 \u001b[0mobj\u001b[0m \u001b[0;34m=\u001b[0m \u001b[0;36m0.\u001b[0m\u001b[0;34m\u001b[0m\u001b[0;34m\u001b[0m\u001b[0m\n\u001b[1;32m     67\u001b[0m                 \u001b[0mtcost\u001b[0m \u001b[0;34m=\u001b[0m \u001b[0;36m0.\u001b[0m\u001b[0;34m\u001b[0m\u001b[0;34m\u001b[0m\u001b[0m\n",
      "\u001b[0;31mKeyboardInterrupt\u001b[0m: "
     ]
    }
   ],
   "source": [
    "train(pi_net, optimizer, X_train_dataloader,Y_train_dataloaders, None)"
   ]
  },
  {
   "cell_type": "markdown",
   "id": "6b4cceec-1c21-406c-9829-0135fba8913d",
   "metadata": {},
   "source": [
    "### Save Model"
   ]
  },
  {
   "cell_type": "code",
   "execution_count": 54,
   "id": "4be3d76d-ad69-4d53-953a-7051a29f2688",
   "metadata": {},
   "outputs": [
    {
     "data": {
      "text/plain": [
       "Generator(\n",
       "  (layers): Sequential(\n",
       "    (0): Linear(in_features=61, out_features=128, bias=True)\n",
       "    (1): LeakyReLU(negative_slope=0.1)\n",
       "    (2): Linear(in_features=128, out_features=128, bias=True)\n",
       "    (3): LeakyReLU(negative_slope=0.2)\n",
       "    (4): Linear(in_features=128, out_features=128, bias=True)\n",
       "    (5): LeakyReLU(negative_slope=0.1)\n",
       "    (6): Linear(in_features=128, out_features=64, bias=True)\n",
       "    (7): LeakyReLU(negative_slope=0.2)\n",
       "    (8): Linear(in_features=64, out_features=50, bias=True)\n",
       "  )\n",
       ")"
      ]
     },
     "execution_count": 54,
     "metadata": {},
     "output_type": "execute_result"
    }
   ],
   "source": [
    "pi_net.eval()"
   ]
  },
  {
   "cell_type": "code",
   "execution_count": 39,
   "id": "05c77ddf-0882-4646-8a81-52977f66613b",
   "metadata": {},
   "outputs": [],
   "source": [
    "torch.save(pi_net.state_dict(),f\"alt_model_{lr}.pth\")"
   ]
  },
  {
   "cell_type": "code",
   "execution_count": 40,
   "id": "a670ed36-2867-471b-b7a6-8cf77521ba05",
   "metadata": {},
   "outputs": [],
   "source": [
    "adata = sc.read('./datasets/hvg.h5ad')\n",
    "inv_pcamatrix = np.linalg.pinv(adata.obsm['X_pca'])@adata.X.A"
   ]
  },
  {
   "cell_type": "code",
   "execution_count": 25,
   "id": "72fb4ea2-5472-4146-a7db-fdfeece5cdcb",
   "metadata": {},
   "outputs": [
    {
     "data": {
      "text/plain": [
       "(<torch.utils.data.dataloader.DataLoader at 0x7f0c74193a30>,\n",
       " {10: <torch.utils.data.dataloader.DataLoader at 0x7f0c74193010>,\n",
       "  100: <torch.utils.data.dataloader.DataLoader at 0x7f0c74193160>,\n",
       "  1000: <torch.utils.data.dataloader.DataLoader at 0x7f0a0469ceb0>,\n",
       "  10000: <torch.utils.data.dataloader.DataLoader at 0x7f0a0469c7c0>})"
      ]
     },
     "execution_count": 25,
     "metadata": {},
     "output_type": "execute_result"
    }
   ],
   "source": [
    "X_test_dataloader, Y_test_dataloaders"
   ]
  },
  {
   "cell_type": "code",
   "execution_count": 55,
   "id": "891a716a-bd8e-40cc-95e9-41abb2a56088",
   "metadata": {},
   "outputs": [
    {
     "name": "stdout",
     "output_type": "stream",
     "text": [
      "0\n",
      "torch.Size([204, 50])\n",
      "0\n",
      "torch.Size([198, 50])\n",
      "0\n",
      "torch.Size([164, 50])\n",
      "0\n",
      "torch.Size([144, 50])\n"
     ]
    }
   ],
   "source": [
    "dosages = [10,100,1000,10000]\n",
    "test_samples = {\n",
    "    10: torch.Tensor([]),\n",
    "    100: torch.Tensor([]),\n",
    "    1000: torch.Tensor([]),\n",
    "    10000: torch.Tensor([])\n",
    "}\n",
    "for dose in dosages:\n",
    "    for idx, batch in enumerate(Y_test_dataloaders[int(f'{dose}')]):\n",
    "        #print(test_samples)\n",
    "        print(idx)\n",
    "        if (test_samples[dose].nelement() != 0):\n",
    "            test_samples[dose] = torch.cat((test_samples[dose],batch[0]),0)\n",
    "        else:\n",
    "            test_samples[dose] = batch[0]\n",
    "        print(test_samples[dose].shape)\n",
    "    test_samples[dose] = test_samples[dose]@inv_pcamatrix"
   ]
  },
  {
   "cell_type": "code",
   "execution_count": 27,
   "id": "3c79f8a7-b103-413c-85e9-9703fb7f2187",
   "metadata": {},
   "outputs": [],
   "source": [
    "def compute_drug_signature_differences(control, treated, pushfwd):\n",
    "    base = control.mean(0)\n",
    "\n",
    "    true = treated.mean(0)\n",
    "    pred = pushfwd.mean(0)\n",
    "\n",
    "    diff = true - pred\n",
    "    return diff\n"
   ]
  },
  {
   "cell_type": "code",
   "execution_count": 28,
   "id": "c2bdae8a-02a7-42d8-9875-b9bef1c60773",
   "metadata": {},
   "outputs": [],
   "source": [
    "def transport_cot(pi_net, batch, dose):\n",
    "\n",
    "    n_x = len(batch)\n",
    "    n_noise = 5\n",
    "    noise_dim = 10\n",
    "    ZX = torch.cat([batch, torch.Tensor([dose]).repeat(n_x,1)], dim=1).to(device)\n",
    "    n_s = torch.randn(n_noise, noise_dim).to(device)\n",
    "    ZXn = torch.cat([ZX.repeat_interleave(n_noise,0), n_s.repeat(n_x,1)],dim=1).to(device)\n",
    "            \n",
    "    with torch.no_grad():\n",
    "        gen_batch = pi_net(ZXn).detach().cpu()\n",
    "\n",
    "    return gen_batch"
   ]
  },
  {
   "cell_type": "code",
   "execution_count": 56,
   "id": "2b32808d-3908-4913-951d-de6bfcf2a7cf",
   "metadata": {},
   "outputs": [
    {
     "name": "stdout",
     "output_type": "stream",
     "text": [
      "torch.Size([3513, 1000])\n",
      "torch.Size([70260, 1000])\n",
      "torch.Size([17565, 1000])\n",
      "torch.Size([17565, 1000])\n",
      "torch.Size([17565, 1000])\n"
     ]
    }
   ],
   "source": [
    "# Impute samples and concat them into a dataloader\n",
    "gen_samples = {\n",
    "    0: torch.Tensor([]),\n",
    "    10: torch.Tensor([]),\n",
    "    100: torch.Tensor([]),\n",
    "    1000: torch.Tensor([]),\n",
    "    10000: torch.Tensor([])\n",
    "}\n",
    "\n",
    "test_source = X_test_dataloader\n",
    "for idx, batch_ in enumerate(test_source):\n",
    "    batch = batch_[0]\n",
    "    n_x = len(batch)\n",
    "    # transport these cells below\n",
    "    # and store in a sample\n",
    "    gen_samples[0] = torch.cat((gen_samples[0],batch),0)\n",
    "    \n",
    "    \n",
    "    ZX = torch.cat([batch, torch.Tensor([10]).repeat(n_x,1)], dim=1).to(device)\n",
    "    n_s = torch.randn(n_noise, noise_dim).to(device)\n",
    "    ZXn = torch.cat([ZX.repeat_interleave(n_noise,0), n_s.repeat(n_x,1)],dim=1).to(device)\n",
    "            \n",
    "    with torch.no_grad():\n",
    "        gen_batch_10 = pi_net(ZXn).detach().cpu()\n",
    "    gen_samples[10] = torch.cat((gen_samples[10],gen_batch_10),0)\n",
    "    \n",
    "    gen_batch_100 = transport_cot(pi_net, batch, 100)    \n",
    "    gen_samples[100] = torch.cat((gen_samples[100],gen_batch_100),0)    \n",
    "    \n",
    "    gen_batch_1000 = transport_cot(pi_net, batch, 1000)    \n",
    "    gen_samples[1000] = torch.cat((gen_samples[1000],gen_batch_1000),0) \n",
    "    \n",
    "    gen_batch_10000 = transport_cot(pi_net, batch, 10000)    \n",
    "    gen_samples[10000] = torch.cat((gen_samples[10000],gen_batch_10000),0)\n",
    "\n",
    "for each in gen_samples.keys():\n",
    "    gen_samples[each] = gen_samples[each].detach().cpu()@inv_pcamatrix\n",
    "    print(gen_samples[each].shape)"
   ]
  },
  {
   "cell_type": "code",
   "execution_count": 57,
   "id": "362aceff-dab4-4b6e-8134-007762fc26aa",
   "metadata": {},
   "outputs": [
    {
     "data": {
      "image/png": "[encoded data removed]",
      "text/plain": [
       "<Figure size 792x504 with 1 Axes>"
      ]
     },
     "metadata": {
      "needs_background": "light"
     },
     "output_type": "display_data"
    }
   ],
   "source": [
    "plt.figure(figsize=(11,7))\n",
    "plt.title('Gene ENSG00000173727.12')\n",
    "#print(generated[10].shape)\n",
    "sns.kdeplot(gen_samples[100][:,1].detach().cpu().numpy(), label='predictions')\n",
    "sns.kdeplot(test_samples[100][:,1].detach().cpu().numpy(), label='target')\n",
    "sns.kdeplot(gen_samples[0][:,1].cpu().numpy(), label='source')\n",
    "#sns.kdeplot(cellot_adata.X[:,581], label='cellOT')\n",
    "plt.legend()\n",
    "plt.show()"
   ]
  },
  {
   "cell_type": "code",
   "execution_count": 44,
   "id": "495de03c-0a5a-4550-a893-66830738ed22",
   "metadata": {},
   "outputs": [
    {
     "name": "stdout",
     "output_type": "stream",
     "text": [
      "tensor(0.5214)\n",
      "tensor(0.4145)\n",
      "tensor(0.2872)\n",
      "tensor(0.2634)\n"
     ]
    }
   ],
   "source": [
    "for dose in dosages:\n",
    "    mean_diff = compute_drug_signature_differences(gen_samples[0], test_samples[dose] ,gen_samples[dose])\n",
    "    print(torch.linalg.norm(mean_diff))"
   ]
  },
  {
   "cell_type": "code",
   "execution_count": 32,
   "id": "03c28600-d333-47d4-8ca1-0fdaf6e220ca",
   "metadata": {},
   "outputs": [
    {
     "name": "stdout",
     "output_type": "stream",
     "text": [
      "View of AnnData object with n_obs × n_vars = 21106 × 1000\n",
      "    obs: 'size_factor', 'cell_type', 'replicate', 'dose', 'drug_code', 'pathway_level_1', 'pathway_level_2', 'product_name', 'target', 'pathway', 'drug', 'drug-dose', 'drug_code-dose', 'n_genes'\n",
      "    var: 'gene_short_name', 'n_cells', 'highly_variable', 'means', 'dispersions', 'dispersions_norm'\n",
      "    uns: 'hvg', 'pca', 'rank_genes_groups'\n",
      "    obsm: 'X_pca'\n",
      "    varm: 'PCs', 'marker_genes-drug-rank', 'marker_genes-drug-score'\n",
      "WARNING: Default of the method has been changed to 't-test' from 't-test_overestim_var'\n",
      "4\n"
     ]
    }
   ],
   "source": [
    "ctrl_indices = np.where(adata.obs['dose'].to_numpy()==0)[0]\n",
    "drug_indices = np.where(adata.obs['drug'].to_numpy()=='givinostat')\n",
    "arr = np.append(drug_indices, ctrl_indices)\n",
    "# print(arr.shape)\n",
    "adata_trunk_ = adata[arr]\n",
    "print(adata_trunk_)\n",
    "adata_trunk = sc.tl.rank_genes_groups(adata_trunk_,groupby='drug-dose',reference='control-0', n_genes=50,copy=True)\n",
    "gene_names = adata_trunk.uns['rank_genes_groups']['names']\n",
    "print(len(gene_names[0]))"
   ]
  },
  {
   "cell_type": "code",
   "execution_count": 45,
   "id": "1a3dd75c-819f-4758-accc-e6f0a3c7eaea",
   "metadata": {},
   "outputs": [
    {
     "name": "stdout",
     "output_type": "stream",
     "text": [
      "{10: [3, 14, 18, 25, 37, 38, 40, 48, 49, 50, 62, 67, 99, 102, 112, 115, 118, 129, 201, 251, 254, 265, 312, 313, 322, 340, 364, 374, 375, 398, 414, 427, 485, 523, 525, 541, 561, 581, 597, 613, 632, 673, 710, 761, 795, 823, 840, 844, 928, 992], 100: [3, 7, 14, 18, 19, 22, 25, 40, 49, 50, 67, 85, 95, 102, 112, 129, 142, 181, 254, 265, 296, 312, 322, 340, 375, 398, 414, 427, 440, 504, 520, 525, 536, 541, 581, 613, 618, 632, 673, 710, 723, 761, 808, 823, 840, 844, 928, 933, 949, 957], 1000: [2, 3, 4, 7, 8, 9, 12, 19, 24, 40, 50, 59, 81, 86, 142, 166, 183, 245, 254, 297, 312, 313, 320, 352, 363, 398, 414, 504, 523, 536, 541, 559, 568, 581, 632, 686, 710, 723, 761, 763, 779, 823, 840, 844, 914, 928, 949, 952, 957, 976], 10000: [0, 2, 3, 4, 7, 8, 9, 12, 13, 16, 23, 31, 36, 40, 45, 55, 63, 78, 81, 86, 89, 90, 105, 127, 139, 140, 166, 192, 270, 298, 318, 327, 405, 504, 518, 536, 547, 559, 581, 686, 744, 770, 849, 852, 914, 949, 952, 976, 977, 986]}\n"
     ]
    }
   ],
   "source": [
    "marker_indices = {10:[],100:[], 1000:[], 10000:[]}\n",
    "for dose in marker_indices.keys():\n",
    "    for i in range(1000):\n",
    "        #print(type(adata_trunk.var.iloc[i].name))\n",
    "        if adata_trunk.var.iloc[i].name in gene_names[f'givinostat-{dose}']:\n",
    "            marker_indices[dose].append(i)\n",
    "print(marker_indices)"
   ]
  },
  {
   "cell_type": "code",
   "execution_count": 34,
   "id": "f41ed168-313e-4db9-8a07-064472bab74b",
   "metadata": {},
   "outputs": [
    {
     "data": {
      "image/png": "[encoded data removed]",
      "text/plain": [
       "<Figure size 1728x288 with 4 Axes>"
      ]
     },
     "metadata": {
      "needs_background": "light"
     },
     "output_type": "display_data"
    }
   ],
   "source": [
    "sc.pl.rank_genes_groups(adata_trunk)"
   ]
  },
  {
   "cell_type": "code",
   "execution_count": 58,
   "id": "2b54eb88-66ca-4113-87f8-525daa3df23c",
   "metadata": {},
   "outputs": [
    {
     "name": "stdout",
     "output_type": "stream",
     "text": [
      "0\n",
      "10\n",
      "tensor(0.2995)\n",
      "100\n",
      "tensor(0.1499)\n",
      "1000\n",
      "tensor(0.1884)\n",
      "10000\n",
      "tensor(0.5122)\n"
     ]
    }
   ],
   "source": [
    "# Perturbation Signatures, for all contexts and average.\n",
    "for each_key in gen_samples.keys():\n",
    "    print(each_key)\n",
    "    if each_key == 0:\n",
    "        \n",
    "        continue\n",
    "    gen_mean_vec = torch.mean(gen_samples[each_key],dim=0)\n",
    "    y_mean_vec = torch.mean(test_samples[each_key],dim=0)\n",
    "    l2_ps = torch.linalg.norm(gen_mean_vec[marker_indices[each_key]]- y_mean_vec[marker_indices[each_key]])\n",
    "    print(l2_ps)"
   ]
  },
  {
   "cell_type": "code",
   "execution_count": null,
   "id": "71f97ecb-6705-494b-8a6e-412af2430d38",
   "metadata": {},
   "outputs": [],
   "source": [
    "# Lifted from CellOT\n",
    "def mmd_distance(x, y, gamma):\n",
    "    xx = rbf_kernel(x, x, gamma)\n",
    "    xy = rbf_kernel(x, y, gamma)\n",
    "    yy = rbf_kernel(y, y, gamma)\n",
    "\n",
    "    return xx.mean() + yy.mean() - 2 * xy.mean()\n",
    " \n",
    "def compute_scalar_mmd(target, transport, gammas=None):\n",
    "    if gammas is None:\n",
    "        gammas = [2, 1, 0.5, 0.1, 0.01, 0.005]\n",
    "\n",
    "    def safe_mmd(*args):\n",
    "        try:\n",
    "            mmd = mmd_distance(*args)\n",
    "        except ValueError:\n",
    "            mmd = np.nan\n",
    "        return mmd\n",
    "\n",
    "    return np.mean(list(map(lambda x: safe_mmd(target, transport, x), gammas)))"
   ]
  },
  {
   "cell_type": "code",
   "execution_count": null,
   "id": "078ca15b-c68f-4309-ae66-999d2a90e437",
   "metadata": {},
   "outputs": [],
   "source": [
    "\n",
    "# for each_key in gen_samples.keys():\n",
    "#     if each_key == 0:\n",
    "#         continue\n",
    "#     print(each_key)\n",
    "#     mmd_dist = compute_scalar_mmd(gen_samples[each_key][:,marker_indices[each_key]].detach().cpu(),test_samples[each_key][:,marker_indices[each_key]].detach().cpu())\n",
    "#     print(mmd_dist)"
   ]
  },
  {
   "cell_type": "code",
   "execution_count": null,
   "id": "c3138128-944c-4c01-b34b-fab954b97e99",
   "metadata": {},
   "outputs": [],
   "source": [
    "def compute_wasserstein_loss(x, y, epsilon=0.1):\n",
    "    \"\"\"Computes transport between x and y via Sinkhorn algorithm.\"\"\"\n",
    "    a = jnp.ones(len(x)) / len(x)\n",
    "    b = jnp.ones(len(y)) / len(y)\n",
    "\n",
    "    # compute cost\n",
    "    geom_xy = pointcloud.PointCloud(x, y, epsilon=epsilon)\n",
    "    prob = linear_problem.LinearProblem(geom_xy,a,b)\n",
    "    # solve ot problem\n",
    "    solver = sinkhorn.Sinkhorn()\n",
    "    #out_xy = sinkhorn.Sinkhorn(geom_xy, a, b, max_iterations=100, min_iterations=10)\n",
    "    out = solver(prob)\n",
    "    # return regularized ot cost\n",
    "    return out.reg_ot_cost\n"
   ]
  },
  {
   "cell_type": "code",
   "execution_count": null,
   "id": "c26cad95-e053-40f6-a015-6ae851cde1d9",
   "metadata": {},
   "outputs": [],
   "source": [
    "# print('Computing Wass DistThe modified abstract .')\n",
    "# for each_key in gen_samples.keys():\n",
    "#     if each_key == 0:\n",
    "#         continue\n",
    "#     wdist = compute_wasserstein_loss(gen_samples[each_key][:,marker_indices[each_key]].detach().cpu().numpy(),test_samples[each_key][:,marker_indices[each_key]].cpu().numpy())\n",
    "#     wdist = compute_wasserstein_loss(gen_samples[each_key].detach().cpu().numpy(),test_samples[each_key].cpu().numpy())\n",
    "#     print(f'{each_key}:{wdist}')"
   ]
  },
  {
   "cell_type": "code",
   "execution_count": 59,
   "id": "a9fdfef2-9420-49c8-913c-d4bd280fabe4",
   "metadata": {},
   "outputs": [
    {
     "data": {
      "image/png": "[encoded data removed]",
      "text/plain": [
       "<Figure size 792x504 with 1 Axes>"
      ]
     },
     "metadata": {
      "needs_background": "light"
     },
     "output_type": "display_data"
    }
   ],
   "source": [
    "plt.figure(figsize=(11,7))\n",
    "plt.title('Gene ENSG00000173727.12')\n",
    "#print(generated[10].shape)\n",
    "sns.kdeplot(gen_samples[100][:,976].detach().cpu().numpy(), label='predictions')\n",
    "sns.kdeplot(test_samples[100][:,976].detach().cpu().numpy(), label='target')\n",
    "sns.kdeplot(gen_samples[0][:,976].cpu().numpy(), label='source')\n",
    "#sns.kdeplot(cellot_adata.X[:,581], label='cellOT')\n",
    "plt.legend()\n",
    "plt.show()"
   ]
  },
  {
   "cell_type": "code",
   "execution_count": null,
   "id": "0d7f9a3b-6710-4096-8ced-96ee8f94c140",
   "metadata": {},
   "outputs": [],
   "source": []
  }
 ],
 "metadata": {
  "kernelspec": {
   "display_name": "Python 3",
   "language": "python",
   "name": "python3"
  },
  "language_info": {
   "codemirror_mode": {
    "name": "ipython",
    "version": 3
   },
   "file_extension": ".py",
   "mimetype": "text/x-python",
   "name": "python",
   "nbconvert_exporter": "python",
   "pygments_lexer": "ipython3",
   "version": "3.10.9"
  }
 },
 "nbformat": 4,
 "nbformat_minor": 5
}
